{
  "cells": [
    {
      "cell_type": "markdown",
      "metadata": {
        "id": "f38d3afb-58f8-4335-8fac-074db8adeaa7"
      },
      "source": [
        "# Task 2: Image Classification with CNNs (50%)\n",
        "\n",
        "In this task, you'll dive into the world of Convolutional Neural Networks (CNNs) by working with the CIFAR-10 dataset, a staple in image classification challenges. Your goal is to build and evaluate two different CNN models to classify images into one of the ten categories accurately.\n",
        "\n",
        "The dataset is availabel in pytorch and keras.\n",
        "\n",
        "## Part 1: Custom CNN Model (20%)\n",
        "\n",
        "- Design and train a CNN model from scratch tailored for the CIFAR-10 dataset.\n",
        "- Focus on the architecture that you believe will perform best for this specific task.\n",
        "- Integrate various techniques such as batch normalization, dropout, learning rate schedulers, and early stopping to improve model training. Experiment with these methods and finetune them to see how they affect training stability, convergence speed, and overall performance.\n",
        "\n",
        "## Part 2: Transfer Learning Model (20%)\n",
        "\n",
        "- Implement a transfer learning approach using a pre-trained model of your choice.\n",
        "- Fine-tune the model on the CIFAR-10 dataset to achieve the best possible performance.\n",
        "\n",
        "## Evaluation (10%)\n",
        "\n",
        "Ensure that both models are robust and generalized well to unseen data.\n",
        "\n",
        "After training both models, you will evaluate them on a provided test dataset.\n",
        "\n",
        "Compare your models based on:\n",
        "- **AUC-ROC**: How well does each model discriminate between classes?\n",
        "- **Model Size**: Consider the trade-offs in model complexity.\n",
        "- **Inference Speed**: Evaluate how quickly your model can predict classes for new images.\n",
        "\n",
        "Reflect on the performance, size, and inference speed of both models. What insights can you draw from these comparisons?\n",
        "\n",
        "### Learning Objectives\n",
        "\n",
        "- Understand and apply CNNs for image classification.\n",
        "- Explore the impact of model architecture on performance and efficiency.\n",
        "- Learn the process and benefits of transfer learning in deep learning.\n",
        "\n",
        "Remember, the key to this task is not just about achieving the highest accuracy but also understanding the strengths and limitations of different approaches in machine learning model development."
      ],
      "id": "f38d3afb-58f8-4335-8fac-074db8adeaa7"
    },
    {
      "cell_type": "markdown",
      "metadata": {
        "id": "d55b88e1"
      },
      "source": [
        "## Part 1: Custom CNN Model"
      ],
      "id": "d55b88e1"
    },
    {
      "cell_type": "code",
      "execution_count": 1,
      "metadata": {
        "execution": {
          "iopub.execute_input": "2024-04-19T00:58:31.604797Z",
          "iopub.status.busy": "2024-04-19T00:58:31.604365Z",
          "iopub.status.idle": "2024-04-19T00:58:50.184016Z",
          "shell.execute_reply": "2024-04-19T00:58:50.183010Z",
          "shell.execute_reply.started": "2024-04-19T00:58:31.604756Z"
        },
        "id": "e94cdbd8-79b5-43ac-b0e1-0858da622e6e",
        "trusted": true
      },
      "outputs": [],
      "source": [
        "# Import necessary libraries and modules\n",
        "import tensorflow as tf\n",
        "import matplotlib.pyplot as plt\n",
        "from tensorflow.keras.utils import to_categorical"
      ],
      "id": "e94cdbd8-79b5-43ac-b0e1-0858da622e6e"
    },
    {
      "cell_type": "markdown",
      "metadata": {
        "id": "d5c2dc85"
      },
      "source": [
        "### Loading and Analyzing the CIFAR-10 dataset for the (CNN) model\n",
        "\n",
        "- Loading the dataset and spliting it into training and testing images arrays (`x_train` and `x_test`) as well as the shapes of the training and testing labels arrays (`y_train` and `y_test`)"
      ],
      "id": "d5c2dc85"
    },
    {
      "cell_type": "code",
      "execution_count": 2,
      "metadata": {
        "execution": {
          "iopub.execute_input": "2024-04-19T00:58:50.186273Z",
          "iopub.status.busy": "2024-04-19T00:58:50.185758Z",
          "iopub.status.idle": "2024-04-19T00:58:54.423900Z",
          "shell.execute_reply": "2024-04-19T00:58:54.422847Z",
          "shell.execute_reply.started": "2024-04-19T00:58:50.186246Z"
        },
        "id": "oy3T9MwuKBNs",
        "trusted": true,
        "colab": {
          "base_uri": "https://localhost:8080/"
        },
        "outputId": "a6c3e69d-43e5-4d66-83a2-0771d25382fb"
      },
      "outputs": [
        {
          "output_type": "stream",
          "name": "stdout",
          "text": [
            "Downloading data from https://www.cs.toronto.edu/~kriz/cifar-10-python.tar.gz\n",
            "170498071/170498071 [==============================] - 2s 0us/step\n"
          ]
        }
      ],
      "source": [
        "from tensorflow.keras.datasets import cifar10\n",
        "\n",
        "# Load the CIFAR-10 dataset and returns the training and testing data.\n",
        "(x_train, y_train), (x_test, y_test) = cifar10.load_data()"
      ],
      "id": "oy3T9MwuKBNs"
    },
    {
      "cell_type": "markdown",
      "metadata": {
        "id": "9ae796d6"
      },
      "source": [
        "### Analyzing the data"
      ],
      "id": "9ae796d6"
    },
    {
      "cell_type": "markdown",
      "id": "fd35ab60",
      "metadata": {
        "id": "fd35ab60"
      },
      "source": [
        "The CIFAR-10 dataset consists of images categorized into 10 classes.\n",
        "\n",
        "- **Images:**\n",
        "  - `x_train`: Training images array has a shape of `(50000, 32, 32, 3)`.\n",
        "    - This indicates that there are 50,000 images in the training set.\n",
        "    - Each image is represented as a 32x32 grid of pixels.\n",
        "    - The `3` represents the three color channels (RGB) for each pixel.\n",
        "\n",
        "  - `x_test`: Testing images array has a shape of `(10000, 32, 32, 3)`.\n",
        "    - There are 10,000 images in the testing set, similar to the training set.\n",
        "    - Each image is also represented as a 32x32 grid of pixels with three color channels.\n",
        "\n",
        "- **Labels:**\n",
        "  - `y_train`: Training labels array has a shape of `(50000, 1)`.\n",
        "    - This indicates that there are 50,000 labels corresponding to the training images.\n",
        "    - Each label is a single integer representing the class of the corresponding image.\n",
        "\n",
        "  - `y_test`: Testing labels array has a shape of `(10000, 1)`.\n",
        "    - Similar to the training set, there are 10,000 labels corresponding to the testing images.\n",
        "    - Each label is also a single integer representing the class of the corresponding image."
      ]
    },
    {
      "cell_type": "code",
      "execution_count": 3,
      "metadata": {
        "colab": {
          "base_uri": "https://localhost:8080/"
        },
        "execution": {
          "iopub.execute_input": "2024-04-19T00:58:54.425381Z",
          "iopub.status.busy": "2024-04-19T00:58:54.425106Z",
          "iopub.status.idle": "2024-04-19T00:58:54.431398Z",
          "shell.execute_reply": "2024-04-19T00:58:54.430614Z",
          "shell.execute_reply.started": "2024-04-19T00:58:54.425357Z"
        },
        "id": "OFEYyp22KHhg",
        "outputId": "d5f3fa35-7d95-46a7-daeb-735efe09937a",
        "trusted": true
      },
      "outputs": [
        {
          "output_type": "stream",
          "name": "stdout",
          "text": [
            "The Shape of the CIFAR-10 data:\n",
            "===============================\n",
            "The shape of the images(x_train, x_test): (50000, 32, 32, 3) | (10000, 32, 32, 3)\n",
            "----------------------------------------------------------------------------------\n",
            "The shape of the labels(y_train, y_test): (50000, 1) | (10000, 1)\n",
            "----------------------------------------------------------------------------------\n"
          ]
        }
      ],
      "source": [
        "# Print the shapes of the CIFAR-10 data arrays\n",
        "print('The Shape of the CIFAR-10 data:')\n",
        "print('===============================')\n",
        "print(f'The shape of the images(x_train, x_test): {x_train.shape} | {x_test.shape}')\n",
        "print('----------------------------------------------------------------------------------')\n",
        "print(f'The shape of the labels(y_train, y_test): {y_train.shape} | {y_test.shape}')\n",
        "print('----------------------------------------------------------------------------------')"
      ],
      "id": "OFEYyp22KHhg"
    },
    {
      "cell_type": "markdown",
      "id": "e11c21ed",
      "metadata": {
        "id": "e11c21ed"
      },
      "source": [
        "### Visualizing CIFAR-10 Images with Labels"
      ]
    },
    {
      "cell_type": "code",
      "execution_count": 4,
      "metadata": {
        "colab": {
          "base_uri": "https://localhost:8080/",
          "height": 348
        },
        "execution": {
          "iopub.execute_input": "2024-04-19T00:58:54.436219Z",
          "iopub.status.busy": "2024-04-19T00:58:54.435070Z",
          "iopub.status.idle": "2024-04-19T00:58:55.036612Z",
          "shell.execute_reply": "2024-04-19T00:58:55.035669Z",
          "shell.execute_reply.started": "2024-04-19T00:58:54.436159Z"
        },
        "id": "EaDmPOU7K4t9",
        "outputId": "c4763ff2-63a8-4105-f7f7-569a6cf8de2e",
        "trusted": true
      },
      "outputs": [
        {
          "output_type": "display_data",
          "data": {
            "text/plain": [
              "<Figure size 1000x1000 with 10 Axes>"
            ],
            "image/png": "[encoded data removed]"
          },
          "metadata": {}
        }
      ],
      "source": [
        "# Define class names corresponding to CIFAR-10 labels\n",
        "class_names = ['Airplane', 'Automobile', 'Bird', 'Cat', 'Deer', 'Dog', 'Frog', 'Horse', 'Ship', 'Truck']\n",
        "\n",
        "# Create a figure with a size of 10x10 inches\n",
        "plt.figure(figsize=(10, 10))\n",
        "\n",
        "# Iterate over the first 10 images in the training set\n",
        "for i in range(10):\n",
        "    # Create subplots in a 5x5 grid\n",
        "    plt.subplot(5, 5, i+1)\n",
        "    plt.xticks([]) # Hide x-axis ticks\n",
        "    plt.yticks([]) # Hide y-axis ticks\n",
        "    plt.grid(False) # Disable grid lines\n",
        "    plt.imshow(x_train[i]) # Display image\n",
        "    # Display label below each image\n",
        "    plt.xlabel(\"%s %s\" % (y_train[i], class_names[y_train[i][0]]))\n",
        "\n",
        "# Display the plot\n",
        "plt.show()"
      ],
      "id": "EaDmPOU7K4t9"
    },
    {
      "cell_type": "markdown",
      "metadata": {
        "id": "ef0275df"
      },
      "source": [
        "### Data Preprocessing: Normalization and One-Hot-Encoding\n",
        "- **Normalization**:\n",
        "  - Pixel values of images are normalized to the range [0, 1] by dividing each pixel value by 255.\n",
        "  - This helps in improving the convergence of the neural network during training.\n",
        "\n",
        "- **One-Hot-Encoding**:\n",
        "  - Labels are one-hot-encoded using the `to_categorical` function from Keras utilities.\n",
        "  - This converts each integer label into a binary vector where only the corresponding class index is 1 and all other elements are 0.\n",
        "  - The original shape of the labels is (50000, 1) for training data and (10000, 1) for testing data."
      ],
      "id": "ef0275df"
    },
    {
      "cell_type": "code",
      "execution_count": 5,
      "metadata": {
        "colab": {
          "base_uri": "https://localhost:8080/"
        },
        "execution": {
          "iopub.execute_input": "2024-04-19T00:58:55.038307Z",
          "iopub.status.busy": "2024-04-19T00:58:55.037922Z",
          "iopub.status.idle": "2024-04-19T00:58:55.491042Z",
          "shell.execute_reply": "2024-04-19T00:58:55.490050Z",
          "shell.execute_reply.started": "2024-04-19T00:58:55.038271Z"
        },
        "id": "379babf3",
        "outputId": "39e6a74d-e506-4923-d9fe-16fee4893e04",
        "trusted": true
      },
      "outputs": [
        {
          "output_type": "stream",
          "name": "stdout",
          "text": [
            "Shape of the data before encoding: (50000, 1)\n",
            "Shape of the data after encoding: (50000, 10)\n"
          ]
        }
      ],
      "source": [
        "# Normalizing the pixel values of images to the range [0, 1]\n",
        "X_train = x_train / 255\n",
        "X_test = x_test / 255\n",
        "\n",
        "# One-Hot-Encoding the labels\n",
        "Y_train = to_categorical(y_train, 10)\n",
        "Y_test = to_categorical(y_test, 10)\n",
        "\n",
        "# Print shapes of the data before and after encoding\n",
        "print(f'Shape of the data before encoding: {y_train.shape}')\n",
        "print(f'Shape of the data after encoding: {Y_train.shape}')\n"
      ],
      "id": "379babf3"
    },
    {
      "cell_type": "markdown",
      "metadata": {
        "id": "50eb242a"
      },
      "source": [
        "### Creating a Custom Convolutional Neural Network (CNN) Model\n",
        "- **Input Layer**:\n",
        "  - An input layer is defined with a shape of (32, 32, 3), corresponding to the height, width, and color channels of the CIFAR-10 images.\n",
        "\n",
        "- **Convolutional Blocks**:\n",
        "  - Three convolutional blocks are defined, each consisting of convolutional layers, batch normalization, max pooling, and dropout regularization.\n",
        "  - The number of filters and dropout rates gradually increase across the blocks to capture more complex features and prevent overfitting.\n",
        "\n",
        "- **Flatten and Dense Layers**:\n",
        "  - The output from the convolutional layers is flattened and fed into a dense layer with 256 units and ReLU activation.\n",
        "  - Batch normalization and dropout regularization are applied to the dense layer to improve training stability and prevent overfitting.\n",
        "\n",
        "- **Output Layer**:\n",
        "  - The output layer consists of 10 units with softmax activation, representing the probabilities of the input image belonging to each of the 10 CIFAR-10 classes.\n",
        "\n",
        "(reference): https://www.kaggle.com/code/muhammadibrahimqasmi/cifar-10-cnn-image-classification?scriptVersionId=164937306&cellId=18"
      ],
      "id": "50eb242a"
    },
    {
      "cell_type": "code",
      "execution_count": 6,
      "metadata": {
        "execution": {
          "iopub.execute_input": "2024-04-19T00:58:55.492329Z",
          "iopub.status.busy": "2024-04-19T00:58:55.492075Z",
          "iopub.status.idle": "2024-04-19T00:58:56.657361Z",
          "shell.execute_reply": "2024-04-19T00:58:56.656549Z",
          "shell.execute_reply.started": "2024-04-19T00:58:55.492307Z"
        },
        "id": "amSKtyjqLBfO",
        "trusted": true
      },
      "outputs": [],
      "source": [
        "# Define input layer with shape (32, 32, 3)\n",
        "inputs = tf.keras.Input(shape=(32,32,3))\n",
        "\n",
        "# First convolutional block\n",
        "input = tf.keras.layers.Conv2D(64,(4,4),input_shape=(32,32,3),activation='relu',padding='same')(inputs)\n",
        "input = tf.keras.layers.BatchNormalization()(input)\n",
        "input = tf.keras.layers.Conv2D(64,(4,4),input_shape=(32,32,3),activation='relu',padding='same')(input)\n",
        "input = tf.keras.layers.BatchNormalization()(input)\n",
        "input = tf.keras.layers.MaxPooling2D(pool_size=(2,2))(input)\n",
        "input = tf.keras.layers.Dropout(0.2)(input)\n",
        "\n",
        "# Second convolutional block\n",
        "input = tf.keras.layers.Conv2D(128,(4,4),input_shape=(32,32,3),activation='relu',padding='same')(input)\n",
        "input = tf.keras.layers.BatchNormalization()(input)\n",
        "input = tf.keras.layers.Conv2D(128,(4,4),input_shape=(32,32,3),activation='relu',padding='same')(input)\n",
        "input = tf.keras.layers.BatchNormalization()(input)\n",
        "input = tf.keras.layers.MaxPooling2D(pool_size=(2,2))(input)\n",
        "input = tf.keras.layers.Dropout(0.25)(input)\n",
        "\n",
        "# Third convolutional block\n",
        "input = tf.keras.layers.Conv2D(128,(4,4),input_shape=(32,32,3),activation='relu',padding='same')(input)\n",
        "input = tf.keras.layers.BatchNormalization()(input)\n",
        "input = tf.keras.layers.Conv2D(128,(4,4),input_shape=(32,32,3),activation='relu',padding='same')(input)\n",
        "input = tf.keras.layers.BatchNormalization()(input)\n",
        "input = tf.keras.layers.MaxPooling2D(pool_size=(2,2))(input)\n",
        "input = tf.keras.layers.Dropout(0.35)(input)\n",
        "\n",
        "# Flatten the output and add dense layers\n",
        "input = tf.keras.layers.Flatten()(input)\n",
        "input = tf.keras.layers.Dense(256, activation='relu')(input)\n",
        "input = tf.keras.layers.BatchNormalization()(input)\n",
        "input = tf.keras.layers.Dropout(0.5)(input)\n",
        "\n",
        "# Output layer\n",
        "output = tf.keras.layers.Dense(10, activation='softmax')(input)\n",
        "\n",
        "# Create the custom model\n",
        "custom_model = tf.keras.Model(inputs, output)"
      ],
      "id": "amSKtyjqLBfO"
    },
    {
      "cell_type": "markdown",
      "id": "4254287a",
      "metadata": {
        "id": "4254287a"
      },
      "source": [
        "### Custom Model Summary\n",
        "\n",
        "The summary of the custom convolutional neural network (CNN) model is as follows:"
      ]
    },
    {
      "cell_type": "code",
      "execution_count": 7,
      "metadata": {
        "colab": {
          "base_uri": "https://localhost:8080/"
        },
        "execution": {
          "iopub.execute_input": "2024-04-19T00:58:56.658787Z",
          "iopub.status.busy": "2024-04-19T00:58:56.658504Z",
          "iopub.status.idle": "2024-04-19T00:58:56.698902Z",
          "shell.execute_reply": "2024-04-19T00:58:56.698048Z",
          "shell.execute_reply.started": "2024-04-19T00:58:56.658762Z"
        },
        "id": "-9tr1IgbqAeH",
        "outputId": "95be76f4-f126-4890-e10b-8f06a7393de2",
        "trusted": true
      },
      "outputs": [
        {
          "output_type": "stream",
          "name": "stdout",
          "text": [
            "Model: \"model\"\n",
            "_________________________________________________________________\n",
            " Layer (type)                Output Shape              Param #   \n",
            "=================================================================\n",
            " input_1 (InputLayer)        [(None, 32, 32, 3)]       0         \n",
            "                                                                 \n",
            " conv2d (Conv2D)             (None, 32, 32, 64)        3136      \n",
            "                                                                 \n",
            " batch_normalization (Batch  (None, 32, 32, 64)        256       \n",
            " Normalization)                                                  \n",
            "                                                                 \n",
            " conv2d_1 (Conv2D)           (None, 32, 32, 64)        65600     \n",
            "                                                                 \n",
            " batch_normalization_1 (Bat  (None, 32, 32, 64)        256       \n",
            " chNormalization)                                                \n",
            "                                                                 \n",
            " max_pooling2d (MaxPooling2  (None, 16, 16, 64)        0         \n",
            " D)                                                              \n",
            "                                                                 \n",
            " dropout (Dropout)           (None, 16, 16, 64)        0         \n",
            "                                                                 \n",
            " conv2d_2 (Conv2D)           (None, 16, 16, 128)       131200    \n",
            "                                                                 \n",
            " batch_normalization_2 (Bat  (None, 16, 16, 128)       512       \n",
            " chNormalization)                                                \n",
            "                                                                 \n",
            " conv2d_3 (Conv2D)           (None, 16, 16, 128)       262272    \n",
            "                                                                 \n",
            " batch_normalization_3 (Bat  (None, 16, 16, 128)       512       \n",
            " chNormalization)                                                \n",
            "                                                                 \n",
            " max_pooling2d_1 (MaxPoolin  (None, 8, 8, 128)         0         \n",
            " g2D)                                                            \n",
            "                                                                 \n",
            " dropout_1 (Dropout)         (None, 8, 8, 128)         0         \n",
            "                                                                 \n",
            " conv2d_4 (Conv2D)           (None, 8, 8, 128)         262272    \n",
            "                                                                 \n",
            " batch_normalization_4 (Bat  (None, 8, 8, 128)         512       \n",
            " chNormalization)                                                \n",
            "                                                                 \n",
            " conv2d_5 (Conv2D)           (None, 8, 8, 128)         262272    \n",
            "                                                                 \n",
            " batch_normalization_5 (Bat  (None, 8, 8, 128)         512       \n",
            " chNormalization)                                                \n",
            "                                                                 \n",
            " max_pooling2d_2 (MaxPoolin  (None, 4, 4, 128)         0         \n",
            " g2D)                                                            \n",
            "                                                                 \n",
            " dropout_2 (Dropout)         (None, 4, 4, 128)         0         \n",
            "                                                                 \n",
            " flatten (Flatten)           (None, 2048)              0         \n",
            "                                                                 \n",
            " dense (Dense)               (None, 256)               524544    \n",
            "                                                                 \n",
            " batch_normalization_6 (Bat  (None, 256)               1024      \n",
            " chNormalization)                                                \n",
            "                                                                 \n",
            " dropout_3 (Dropout)         (None, 256)               0         \n",
            "                                                                 \n",
            " dense_1 (Dense)             (None, 10)                2570      \n",
            "                                                                 \n",
            "=================================================================\n",
            "Total params: 1517450 (5.79 MB)\n",
            "Trainable params: 1515658 (5.78 MB)\n",
            "Non-trainable params: 1792 (7.00 KB)\n",
            "_________________________________________________________________\n"
          ]
        }
      ],
      "source": [
        "# Display the summary of the custom (CNN) model\n",
        "custom_model.summary()"
      ],
      "id": "-9tr1IgbqAeH"
    },
    {
      "cell_type": "markdown",
      "id": "f8a6a086",
      "metadata": {
        "id": "f8a6a086"
      },
      "source": [
        "### Compiling the Custom Model\n",
        "\n",
        "  - **loss:** `categorical_crossentropy`, suitable for multi-class classification tasks.\n",
        "  - **optimizer:** `adam`, commonly used optimizer."
      ]
    },
    {
      "cell_type": "code",
      "execution_count": 8,
      "metadata": {
        "execution": {
          "iopub.execute_input": "2024-04-19T00:58:56.700770Z",
          "iopub.status.busy": "2024-04-19T00:58:56.700196Z",
          "iopub.status.idle": "2024-04-19T00:58:56.714218Z",
          "shell.execute_reply": "2024-04-19T00:58:56.713287Z",
          "shell.execute_reply.started": "2024-04-19T00:58:56.700735Z"
        },
        "id": "_ESPJlQ-LE0i",
        "trusted": true
      },
      "outputs": [],
      "source": [
        "# Compile the custom model\n",
        "custom_model.compile(loss='categorical_crossentropy',\n",
        "              optimizer='adam',\n",
        "              metrics=['accuracy'])"
      ],
      "id": "_ESPJlQ-LE0i"
    },
    {
      "cell_type": "markdown",
      "source": [
        "### Implementing Early Stopping\n",
        "\n",
        "- **Configuration**:\n",
        "  - We monitor the `val_loss`, which is the loss on the validation dataset, to determine if the model is continuing to learn and generalize.\n",
        "  - The `patience` parameter is set to 10, meaning that we will stop training if we do not see any improvement in the validation loss for 10 consecutive epochs."
      ],
      "metadata": {
        "id": "4mYlgRkODTtl"
      },
      "id": "4mYlgRkODTtl"
    },
    {
      "cell_type": "code",
      "source": [
        "from keras.callbacks import EarlyStopping\n",
        "\n",
        "# Define early stopping callback\n",
        "early_stopping = EarlyStopping(monitor='val_loss', patience=10)"
      ],
      "metadata": {
        "id": "r99vLa4wCvio"
      },
      "id": "r99vLa4wCvio",
      "execution_count": 9,
      "outputs": []
    },
    {
      "cell_type": "markdown",
      "id": "c33b2e21",
      "metadata": {
        "id": "c33b2e21"
      },
      "source": [
        "### Training the Custom Model\n",
        "\n",
        "Training the custom (CNN) model on the CIFAR-10 dataset."
      ]
    },
    {
      "cell_type": "code",
      "execution_count": 10,
      "metadata": {
        "colab": {
          "base_uri": "https://localhost:8080/"
        },
        "execution": {
          "iopub.execute_input": "2024-04-19T00:58:56.715554Z",
          "iopub.status.busy": "2024-04-19T00:58:56.715269Z"
        },
        "id": "XgZG7DFnLsli",
        "outputId": "43870970-b269-4f87-96cf-48bf55b9c3f8",
        "trusted": true
      },
      "outputs": [
        {
          "output_type": "stream",
          "name": "stdout",
          "text": [
            "Epoch 1/50\n",
            "1563/1563 [==============================] - 44s 22ms/step - loss: 1.5572 - accuracy: 0.4681 - val_loss: 1.2210 - val_accuracy: 0.5786\n",
            "Epoch 2/50\n",
            "1563/1563 [==============================] - 34s 22ms/step - loss: 0.9484 - accuracy: 0.6714 - val_loss: 1.0834 - val_accuracy: 0.6285\n",
            "Epoch 3/50\n",
            "1563/1563 [==============================] - 34s 22ms/step - loss: 0.7602 - accuracy: 0.7392 - val_loss: 0.7411 - val_accuracy: 0.7470\n",
            "Epoch 4/50\n",
            "1563/1563 [==============================] - 35s 22ms/step - loss: 0.6407 - accuracy: 0.7830 - val_loss: 0.8297 - val_accuracy: 0.7241\n",
            "Epoch 5/50\n",
            "1563/1563 [==============================] - 35s 22ms/step - loss: 0.5574 - accuracy: 0.8097 - val_loss: 0.5771 - val_accuracy: 0.8063\n",
            "Epoch 6/50\n",
            "1563/1563 [==============================] - 34s 22ms/step - loss: 0.4845 - accuracy: 0.8339 - val_loss: 0.7404 - val_accuracy: 0.7564\n",
            "Epoch 7/50\n",
            "1563/1563 [==============================] - 34s 22ms/step - loss: 0.4339 - accuracy: 0.8529 - val_loss: 0.5806 - val_accuracy: 0.8072\n",
            "Epoch 8/50\n",
            "1563/1563 [==============================] - 34s 22ms/step - loss: 0.3761 - accuracy: 0.8722 - val_loss: 0.5143 - val_accuracy: 0.8355\n",
            "Epoch 9/50\n",
            "1563/1563 [==============================] - 35s 23ms/step - loss: 0.3420 - accuracy: 0.8831 - val_loss: 0.5058 - val_accuracy: 0.8316\n",
            "Epoch 10/50\n",
            "1563/1563 [==============================] - 35s 23ms/step - loss: 0.3083 - accuracy: 0.8945 - val_loss: 0.4775 - val_accuracy: 0.8487\n",
            "Epoch 11/50\n",
            "1563/1563 [==============================] - 35s 22ms/step - loss: 0.2802 - accuracy: 0.9031 - val_loss: 0.4989 - val_accuracy: 0.8434\n",
            "Epoch 12/50\n",
            "1563/1563 [==============================] - 35s 23ms/step - loss: 0.2520 - accuracy: 0.9135 - val_loss: 0.5397 - val_accuracy: 0.8333\n",
            "Epoch 13/50\n",
            "1563/1563 [==============================] - 34s 22ms/step - loss: 0.2295 - accuracy: 0.9205 - val_loss: 0.5007 - val_accuracy: 0.8526\n",
            "Epoch 14/50\n",
            "1563/1563 [==============================] - 35s 22ms/step - loss: 0.2198 - accuracy: 0.9240 - val_loss: 0.5222 - val_accuracy: 0.8439\n",
            "Epoch 15/50\n",
            "1563/1563 [==============================] - 35s 22ms/step - loss: 0.1957 - accuracy: 0.9323 - val_loss: 0.5157 - val_accuracy: 0.8537\n",
            "Epoch 16/50\n",
            "1563/1563 [==============================] - 34s 22ms/step - loss: 0.1820 - accuracy: 0.9373 - val_loss: 0.6191 - val_accuracy: 0.8297\n",
            "Epoch 17/50\n",
            "1563/1563 [==============================] - 34s 22ms/step - loss: 0.1690 - accuracy: 0.9407 - val_loss: 0.5626 - val_accuracy: 0.8490\n",
            "Epoch 18/50\n",
            "1563/1563 [==============================] - 35s 23ms/step - loss: 0.1600 - accuracy: 0.9440 - val_loss: 0.5249 - val_accuracy: 0.8577\n",
            "Epoch 19/50\n",
            "1563/1563 [==============================] - 34s 22ms/step - loss: 0.1555 - accuracy: 0.9468 - val_loss: 0.5238 - val_accuracy: 0.8558\n",
            "Epoch 20/50\n",
            "1563/1563 [==============================] - 34s 22ms/step - loss: 0.1469 - accuracy: 0.9502 - val_loss: 0.5439 - val_accuracy: 0.8576\n"
          ]
        }
      ],
      "source": [
        "# Train the custom model\n",
        "history = custom_model.fit(X_train, Y_train, epochs=50, verbose=1,\n",
        "                    validation_data=(X_test, Y_test), callbacks=[early_stopping])"
      ],
      "id": "XgZG7DFnLsli"
    },
    {
      "cell_type": "markdown",
      "id": "70363c51",
      "metadata": {
        "id": "70363c51"
      },
      "source": [
        "### Saving the Custom Model"
      ]
    },
    {
      "cell_type": "code",
      "execution_count": 11,
      "metadata": {
        "id": "9f3be31f",
        "trusted": true
      },
      "outputs": [],
      "source": [
        "# Save the custom model\n",
        "custom_model.save('custom_CNN_model')"
      ],
      "id": "9f3be31f"
    },
    {
      "cell_type": "markdown",
      "metadata": {
        "id": "27404b69"
      },
      "source": [
        "## Part 2: Transfer Learning Model"
      ],
      "id": "27404b69"
    },
    {
      "cell_type": "markdown",
      "id": "5b1e64ef",
      "metadata": {
        "id": "5b1e64ef"
      },
      "source": [
        "- **List of references:**\n",
        "    - https://keras.io/api/applications/\n",
        "    - https://keras.io/guides/transfer_learning/\n",
        "    - https://www.kaggle.com/code/phoebewongtw/transfer-learning-with-xception-for-cifar-10\n",
        "    - https://www.tensorflow.org/tutorials/images/transfer_learning#un-freeze_the_top_layers_of_the_model"
      ]
    },
    {
      "cell_type": "code",
      "execution_count": 12,
      "id": "8a4057bf",
      "metadata": {
        "id": "8a4057bf"
      },
      "outputs": [],
      "source": [
        "import tensorflow as tf\n",
        "from tensorflow.keras.utils import to_categorical"
      ]
    },
    {
      "cell_type": "markdown",
      "id": "44568214",
      "metadata": {
        "id": "44568214"
      },
      "source": [
        "### Loading the CIFAR-10 dataset\n",
        "\n",
        "- Loading the dataset and spliting it into training and testing images arrays (`x_train` and `x_test`) as well as the shapes of the training and testing labels arrays (`y_train` and `y_test`)"
      ]
    },
    {
      "cell_type": "code",
      "execution_count": 13,
      "metadata": {
        "id": "1ba0e4ce",
        "trusted": true
      },
      "outputs": [],
      "source": [
        "# Load the CIFAR-10 dataset and returns the training and testing data.\n",
        "(x_train, y_train), (x_test, y_test) = cifar10.load_data()"
      ],
      "id": "1ba0e4ce"
    },
    {
      "cell_type": "markdown",
      "id": "22a0a490",
      "metadata": {
        "id": "22a0a490"
      },
      "source": [
        "### Loading the MobileNetV2 Base Model\n",
        "\n",
        "`MobileNetV2` was my choice becasue of its lightweight which allows for efficiency and speed. And because it had some helpful resources supporting it."
      ]
    },
    {
      "cell_type": "code",
      "execution_count": 14,
      "metadata": {
        "id": "1a868fcf",
        "trusted": true,
        "colab": {
          "base_uri": "https://localhost:8080/"
        },
        "outputId": "ea29ef28-df15-43f0-980a-a34e7be33224"
      },
      "outputs": [
        {
          "output_type": "stream",
          "name": "stdout",
          "text": [
            "Downloading data from https://storage.googleapis.com/tensorflow/keras-applications/mobilenet_v2/mobilenet_v2_weights_tf_dim_ordering_tf_kernels_1.0_224_no_top.h5\n",
            "9406464/9406464 [==============================] - 0s 0us/step\n"
          ]
        }
      ],
      "source": [
        "# Load MobileNetV2 base model\n",
        "base_model = tf.keras.applications.MobileNetV2(\n",
        "    weights='imagenet',  # Load weights pre-trained on ImageNet.\n",
        "    input_shape=(224, 224, 3),\n",
        "    include_top=False)"
      ],
      "id": "1a868fcf"
    },
    {
      "cell_type": "markdown",
      "id": "6e2c3e11",
      "metadata": {
        "id": "6e2c3e11"
      },
      "source": [
        "### Preprocessing Data with MobileNetV2\n",
        "- **Input Preprocessing**:\n",
        "  - The `preprocess_input` function from `tf.keras.applications.mobilenet_v2` preprocesses the input images according to the requirements of the MobileNetV2 model.\n",
        "\n",
        "- **Label Encoding**:\n",
        "  - Labels are converted"
      ]
    },
    {
      "cell_type": "code",
      "execution_count": 15,
      "metadata": {
        "id": "1c9ad2ba",
        "trusted": true
      },
      "outputs": [],
      "source": [
        "# Preprocess input images using MobileNetV2 preprocessing function\n",
        "X_train = tf.keras.applications.mobilenet_v2.preprocess_input(x_train)\n",
        "X_test = tf.keras.applications.mobilenet_v2.preprocess_input(x_test)\n",
        "\n",
        "# Ensure labels are in the appropriate format\n",
        "Y_train = to_categorical(y_train,10)\n",
        "Y_test = to_categorical(y_test,10)"
      ],
      "id": "1c9ad2ba"
    },
    {
      "cell_type": "markdown",
      "id": "e184c9de",
      "metadata": {
        "id": "e184c9de"
      },
      "source": [
        "### Freezing Layers of the MobileNetV2 Base Model"
      ]
    },
    {
      "cell_type": "code",
      "execution_count": 16,
      "metadata": {
        "id": "2ea67739",
        "trusted": true
      },
      "outputs": [],
      "source": [
        "# Freeze the layers of the MobileNetV2 base model\n",
        "base_model.trainable = False"
      ],
      "id": "2ea67739"
    },
    {
      "cell_type": "markdown",
      "id": "38c2b5e0",
      "metadata": {
        "id": "38c2b5e0"
      },
      "source": [
        "### Creating the Transfer Learning Model\n",
        "\n",
        "- **Input Layer**:\n",
        "  - An input layer is defined with a shape of (32, 32, 3), corresponding to the height, width, and color channels of the CIFAR-10 images.\n",
        "\n",
        "- **Image Resizing**:\n",
        "  - The input images are resized to match the input shape expected by MobileNetV2 (224x224) using a lambda layer.\n",
        "\n",
        "- **Base Model**:\n",
        "  - The resized input is passed through the MobileNetV2 base model with frozen weights (i.e., `training=False`), ensuring that the base model's pre-trained weights are not updated during training.\n",
        "\n",
        "- **Global Average Pooling**:\n",
        "  - A global average pooling layer is added to reduce the spatial dimensions of the base model's output.\n",
        "\n",
        "- **Dense Layer**:\n",
        "  - A dense layer with 256 units and ReLU activation is added to extract higher-level features from the base model's output.\n",
        "\n",
        "- **Dropout Layer**:\n",
        "  - A dropout layer with a dropout rate of 0.45 is added for regularization, helping prevent overfitting during training.\n",
        "\n",
        "- **Output Layer**:\n",
        "  - The final output layer consists of 10 units with softmax activation, representing the probabilities of the input image belonging to each of the 10 CIFAR-10 classes."
      ]
    },
    {
      "cell_type": "code",
      "execution_count": 17,
      "metadata": {
        "id": "f6ac4b25",
        "trusted": true
      },
      "outputs": [],
      "source": [
        "# Define input layer with shape (32, 32, 3)\n",
        "inputs = tf.keras.Input(shape=(32, 32, 3))\n",
        "\n",
        "# Resize input images to match the input shape of MobileNetV2 (224x224)\n",
        "resized_input = tf.keras.layers.Lambda(lambda image: tf.image.resize(image, (224, 224)))(inputs)\n",
        "\n",
        "# Pass the resized input through the MobileNetV2 base model with frozen weights\n",
        "base_model_output = base_model(resized_input, training=False)\n",
        "\n",
        "# Global average pooling layer to reduce spatial dimensions\n",
        "global_average_pooling = tf.keras.layers.GlobalAveragePooling2D()(base_model_output)\n",
        "\n",
        "# Dense layer with 256 units and ReLU activation\n",
        "dense_layer = tf.keras.layers.Dense(256, activation='relu')(global_average_pooling)\n",
        "\n",
        "# Dropout layer for regularization\n",
        "dropout_layer = tf.keras.layers.Dropout(0.45)(dense_layer)\n",
        "\n",
        "# Output layer with 10 units and softmax activation\n",
        "output_layer = tf.keras.layers.Dense(10, activation='softmax')(dropout_layer)\n",
        "\n",
        "# Create the transfer learning model\n",
        "transfer_model = tf.keras.Model(inputs, output_layer)"
      ],
      "id": "f6ac4b25"
    },
    {
      "cell_type": "markdown",
      "id": "9bfe1567",
      "metadata": {
        "id": "9bfe1567"
      },
      "source": [
        "### Display the summary of the transfer learning model\n",
        "The summary of the transfer learning model is as follows:"
      ]
    },
    {
      "cell_type": "code",
      "execution_count": 18,
      "metadata": {
        "colab": {
          "base_uri": "https://localhost:8080/"
        },
        "id": "2a780943",
        "outputId": "8d8c059a-c95b-4958-f4bb-6c5befd9f553",
        "trusted": true
      },
      "outputs": [
        {
          "output_type": "stream",
          "name": "stdout",
          "text": [
            "Model: \"model_1\"\n",
            "_________________________________________________________________\n",
            " Layer (type)                Output Shape              Param #   \n",
            "=================================================================\n",
            " input_3 (InputLayer)        [(None, 32, 32, 3)]       0         \n",
            "                                                                 \n",
            " lambda (Lambda)             (None, 224, 224, 3)       0         \n",
            "                                                                 \n",
            " mobilenetv2_1.00_224 (Func  (None, 7, 7, 1280)        2257984   \n",
            " tional)                                                         \n",
            "                                                                 \n",
            " global_average_pooling2d (  (None, 1280)              0         \n",
            " GlobalAveragePooling2D)                                         \n",
            "                                                                 \n",
            " dense_2 (Dense)             (None, 256)               327936    \n",
            "                                                                 \n",
            " dropout_4 (Dropout)         (None, 256)               0         \n",
            "                                                                 \n",
            " dense_3 (Dense)             (None, 10)                2570      \n",
            "                                                                 \n",
            "=================================================================\n",
            "Total params: 2588490 (9.87 MB)\n",
            "Trainable params: 330506 (1.26 MB)\n",
            "Non-trainable params: 2257984 (8.61 MB)\n",
            "_________________________________________________________________\n"
          ]
        }
      ],
      "source": [
        "# Display the summary of the transfer learning model\n",
        "transfer_model.summary()"
      ],
      "id": "2a780943"
    },
    {
      "cell_type": "markdown",
      "id": "a29efe8e",
      "metadata": {
        "id": "a29efe8e"
      },
      "source": [
        "### Compiling the Transfer Learning Model\n",
        "  - **optimizer:** `adam`, commonly used optimizer.\n",
        "  - **loss:** `categorical_crossentropy`, suitable for multi-class classification tasks."
      ]
    },
    {
      "cell_type": "code",
      "execution_count": 19,
      "metadata": {
        "id": "cee2e0ce",
        "trusted": true
      },
      "outputs": [],
      "source": [
        "# Compile the transfer learning model\n",
        "transfer_model.compile(optimizer=tf.keras.optimizers.Adam(learning_rate=0.0001),\n",
        "              loss='categorical_crossentropy',\n",
        "              metrics=['accuracy'])"
      ],
      "id": "cee2e0ce"
    },
    {
      "cell_type": "markdown",
      "id": "d8bd1ee4",
      "metadata": {
        "id": "d8bd1ee4"
      },
      "source": [
        "### Training the Transfer Learning Model without Fine-Tuning"
      ]
    },
    {
      "cell_type": "code",
      "execution_count": 20,
      "metadata": {
        "colab": {
          "base_uri": "https://localhost:8080/"
        },
        "id": "70e6df29",
        "outputId": "c4b534b3-97d9-4dbf-999d-3008fbe86123",
        "trusted": true
      },
      "outputs": [
        {
          "output_type": "stream",
          "name": "stdout",
          "text": [
            "Epoch 1/3\n",
            "1563/1563 [==============================] - 74s 44ms/step - loss: 0.8413 - accuracy: 0.7150 - val_loss: 0.5138 - val_accuracy: 0.8257\n",
            "Epoch 2/3\n",
            "1563/1563 [==============================] - 77s 49ms/step - loss: 0.5509 - accuracy: 0.8112 - val_loss: 0.4668 - val_accuracy: 0.8406\n",
            "Epoch 3/3\n",
            "1563/1563 [==============================] - 77s 50ms/step - loss: 0.4868 - accuracy: 0.8334 - val_loss: 0.4408 - val_accuracy: 0.8481\n"
          ]
        }
      ],
      "source": [
        "# Train the transfer learning model without fine-tuning\n",
        "history_without_fine_tuning = transfer_model.fit(X_train, Y_train, verbose=1,\n",
        "                    validation_data=(X_test, Y_test),\n",
        "                    epochs=3)"
      ],
      "id": "70e6df29"
    },
    {
      "cell_type": "markdown",
      "id": "dce1380b",
      "metadata": {
        "id": "dce1380b"
      },
      "source": [
        "### Counting the Number of Layers in MobileNetV2\n",
        "This information can help us to experiment more with the model when we want to unfreeze layers during fine tuning"
      ]
    },
    {
      "cell_type": "code",
      "execution_count": 21,
      "metadata": {
        "id": "c8d0357a",
        "trusted": true,
        "colab": {
          "base_uri": "https://localhost:8080/"
        },
        "outputId": "f43703c7-4e55-418d-f5fe-5ea5b031a2b8"
      },
      "outputs": [
        {
          "output_type": "stream",
          "name": "stdout",
          "text": [
            "Number of layers in the MobileNet V2: 154 layer\n"
          ]
        }
      ],
      "source": [
        "# Count the number of layers in the MobileNetV2 base model\n",
        "print(f\"Number of layers in the MobileNet V2: {len(base_model.layers)} layer\")"
      ],
      "id": "c8d0357a"
    },
    {
      "cell_type": "markdown",
      "id": "2263e9bc",
      "metadata": {
        "id": "2263e9bc"
      },
      "source": [
        "### Selectively Freezing Layers of MobileNetV2\n",
        "- **Layer Freezing**:\n",
        "  - The `trainable` attribute of the base model is set to `True` to allow training of its layers.\n",
        "  - A for loop is used to iterate through the layers of the base model up to a certain index (63 in this case).\n",
        "  - Each layer's `trainable` attribute is set to `False`, effectively freezing them from training.\n",
        "\n",
        "### Fine-Tuning Strategy:\n",
        "\n",
        "By freezing the layers up to a certain index, we can fine-tune only the later layers of the MobileNetV2 base model while keeping the earlier layers frozen. This allows us to adapt the model to the specific characteristics of the CIFAR-10 dataset."
      ]
    },
    {
      "cell_type": "code",
      "execution_count": 22,
      "metadata": {
        "id": "2415c685",
        "trusted": true
      },
      "outputs": [],
      "source": [
        "# Set the base model to trainable\n",
        "base_model.trainable = True\n",
        "\n",
        "# Freeze layers up to a certain index\n",
        "for layer in base_model.layers[:63]:\n",
        "    layer.trainable = False"
      ],
      "id": "2415c685"
    },
    {
      "cell_type": "markdown",
      "id": "fde63b8b",
      "metadata": {
        "id": "fde63b8b"
      },
      "source": [
        "### Recompiling the Transfer Learning Model\n",
        "- **Optimizer and Learning Rate**:\n",
        "  - The Adam optimizer is used with a learning rate of (0.00005).\n",
        "  - By adjusting the learning rate, we can control the step size of the weight updates, potentially improving the model's convergence and performance since transfer learning models tend to overfit.\\\n",
        "(reference): https://www.tensorflow.org/tutorials/images/transfer_learning#compile_the_model_2"
      ]
    },
    {
      "cell_type": "code",
      "execution_count": 23,
      "metadata": {
        "id": "f23432b0",
        "trusted": true
      },
      "outputs": [],
      "source": [
        "# Recompile the transfer learning model with a different optimizer and learning rate\n",
        "transfer_model.compile(optimizer=tf.keras.optimizers.Adam(learning_rate=0.00005),\n",
        "              loss='categorical_crossentropy',\n",
        "              metrics=['accuracy'])"
      ],
      "id": "f23432b0"
    },
    {
      "cell_type": "markdown",
      "id": "38624e98",
      "metadata": {
        "id": "38624e98"
      },
      "source": [
        "### Training the Transfer Learning Model with Fine-Tuning"
      ]
    },
    {
      "cell_type": "code",
      "execution_count": 24,
      "metadata": {
        "id": "a364f2fa",
        "trusted": true,
        "colab": {
          "base_uri": "https://localhost:8080/"
        },
        "outputId": "5fc1db81-be6a-4f1a-b7f3-4e1a7d0bafa0"
      },
      "outputs": [
        {
          "output_type": "stream",
          "name": "stdout",
          "text": [
            "Epoch 1/3\n",
            "1563/1563 [==============================] - 136s 76ms/step - loss: 0.3732 - accuracy: 0.8765 - val_loss: 0.2633 - val_accuracy: 0.9125\n",
            "Epoch 2/3\n",
            "1563/1563 [==============================] - 128s 82ms/step - loss: 0.2169 - accuracy: 0.9262 - val_loss: 0.2256 - val_accuracy: 0.9225\n",
            "Epoch 3/3\n",
            "1563/1563 [==============================] - 119s 76ms/step - loss: 0.1506 - accuracy: 0.9489 - val_loss: 0.2012 - val_accuracy: 0.9332\n"
          ]
        }
      ],
      "source": [
        "# Train the transfer learning model with fine-tuning\n",
        "history_with_fine_tuning = transfer_model.fit(X_train, Y_train, verbose=1,\n",
        "                    validation_data=(X_test, Y_test),\n",
        "                    epochs=3)"
      ],
      "id": "a364f2fa"
    },
    {
      "cell_type": "markdown",
      "id": "c48a5a4d",
      "metadata": {
        "id": "c48a5a4d"
      },
      "source": [
        "## Evaluation\n"
      ]
    },
    {
      "cell_type": "markdown",
      "id": "84222176",
      "metadata": {
        "id": "84222176"
      },
      "source": [
        "### Loading Test Data"
      ]
    },
    {
      "cell_type": "code",
      "execution_count": 25,
      "id": "c126297f",
      "metadata": {
        "id": "c126297f"
      },
      "outputs": [],
      "source": [
        "import numpy as np\n",
        "\n",
        "# Load test images and labels\n",
        "sample_images = np.load('task_2_test_images.npy')\n",
        "sample_labels = np.load('task_2_test_labels.npy')"
      ]
    },
    {
      "cell_type": "markdown",
      "id": "d705fc6e",
      "metadata": {
        "id": "d705fc6e"
      },
      "source": [
        "### Preprocessing and Normalizing Test Dataset for custom (CNN) model\n",
        "- **Image Preprocessing**:\n",
        "  - The test dataset images are divided by 255.0 to scale the pixel values to the range [0, 1], making them suitable as input to the model.\n",
        "\n",
        "- **Label Encoding**:\n",
        "  - Labels are converted to categorical format using one-hot encoding to match the format used during model training."
      ]
    },
    {
      "cell_type": "code",
      "execution_count": 26,
      "id": "c972dd6d",
      "metadata": {
        "id": "c972dd6d"
      },
      "outputs": [],
      "source": [
        "# Preprocess and normalizing test images\n",
        "Sample_images1 = sample_images / 255\n",
        "\n",
        "# Ensure labels are in the appropriate format\n",
        "Sample_labels1 = tf.keras.utils.to_categorical(sample_labels, 10)"
      ]
    },
    {
      "cell_type": "markdown",
      "id": "1a8bb87b",
      "metadata": {
        "id": "1a8bb87b"
      },
      "source": [
        "### Preprocessing and Normalizing Test Dataset with MobileNetV2 for Transfer Learning model\n",
        "- **Image Preprocessing**:\n",
        "  - The test dataset images are preprocessed using the MobileNetV2 preprocessing function provided by `tf.keras.applications.mobilenet_v2`, to align them with the preprocessing applied during the training of MobileNetV2.\n",
        "\n",
        "- **Label Encoding**:\n",
        "  - Labels are converted to categorical format using one-hot encoding to match the format used during model training."
      ]
    },
    {
      "cell_type": "code",
      "execution_count": 27,
      "id": "4e4a8e6f",
      "metadata": {
        "id": "4e4a8e6f"
      },
      "outputs": [],
      "source": [
        "# Preprocess additional test images using MobileNetV2 preprocessing function\n",
        "Sample_images2 = tf.keras.applications.mobilenet_v2.preprocess_input(sample_images)\n",
        "\n",
        "# Ensure labels are in the appropriate format\n",
        "Sample_labels2 = tf.keras.utils.to_categorical(sample_labels, 10)"
      ]
    },
    {
      "cell_type": "markdown",
      "id": "d7895cd9",
      "metadata": {
        "id": "d7895cd9"
      },
      "source": [
        "### Evaluating the Custom (CNN) Model\n",
        "- **Model Size**:\n",
        "  - The number of parameters in the custom (CNN) model is calculated using the `count_params` method.\n",
        "  - The size of the model is then converted to MB for easier interpretation.\n",
        "\n",
        "- **Inference Process**:\n",
        "  - The inference process is timed using the `time` module to measure the model's inference speed.\n",
        "\n",
        "- **Evaluation Metrics**:\n",
        "  - The custom (CNN) model is evaluated on the additional test data, providing metrics such as loss and accuracy.\n",
        "  - The AUC-ROC score is calculated to assess the model's performance in multi-class classification tasks."
      ]
    },
    {
      "cell_type": "code",
      "execution_count": 28,
      "id": "344cef89",
      "metadata": {
        "colab": {
          "base_uri": "https://localhost:8080/"
        },
        "id": "344cef89",
        "outputId": "7f9e2a67-6f50-475a-f67a-ce33712582c9"
      },
      "outputs": [
        {
          "output_type": "stream",
          "name": "stdout",
          "text": [
            "312/312 [==============================] - 2s 7ms/step - loss: 1.1998 - accuracy: 0.7221\n",
            "312/312 [==============================] - 2s 5ms/step\n",
            "Evaluation:\n",
            "==============================================\n",
            "Size of the custom (CNN) model: 1517450 (params)\n",
            "-------------------------------------------------------------\n",
            "Size of the custom (CNN) model: 5.79 (MB)\n",
            "-------------------------------------------------------------\n",
            "AUC_ROC of the custom (CNN) model: 0.958\n",
            "-------------------------------------------------------------\n",
            "Inference speed of the custom (CNN) model: 3.12\n",
            "-------------------------------------------------------------\n",
            "Custom (CNN) model accuracy: 0.722\n",
            "-------------------------------------------------------------\n"
          ]
        }
      ],
      "source": [
        "import time\n",
        "from sklearn.metrics import roc_auc_score\n",
        "\n",
        "# Calculate the number of parameters in the custom model\n",
        "custom_model_size = custom_model.count_params()\n",
        "\n",
        "# Convert the size of the custom model to MB\n",
        "custom_model_size_in_mb = (custom_model_size * 4) / (1024 * 1024)\n",
        "\n",
        "# Evaluate the custom model on the additional test data\n",
        "test_loss1, test_accuracy1 = custom_model.evaluate(Sample_images1, Sample_labels1)\n",
        "\n",
        "# Start timing the inference process\n",
        "start1 = time.time()\n",
        "\n",
        "# Make predictions using the custom model\n",
        "prediction1 = custom_model.predict(Sample_images1)\n",
        "\n",
        "# End timing the inference process\n",
        "end1 = time.time()\n",
        "\n",
        "# Calculate the AUC-ROC score\n",
        "auc_roc1 = roc_auc_score(Sample_labels1, prediction1, multi_class=\"ovo\", average=\"macro\")\n",
        "\n",
        "\n",
        "# Calculate the inference speed of the custom model\n",
        "custom_model_inference_speed = end1 - start1\n",
        "\n",
        "# Print evaluation results\n",
        "print(\"Evaluation:\")\n",
        "print(\"==============================================\")\n",
        "print(f\"Size of the custom (CNN) model: {custom_model_size} (params)\")\n",
        "print(\"-------------------------------------------------------------\")\n",
        "print(f\"Size of the custom (CNN) model: {custom_model_size_in_mb:.2f} (MB)\")\n",
        "print(\"-------------------------------------------------------------\")\n",
        "print(f\"AUC_ROC of the custom (CNN) model: {auc_roc1:.3f}\")\n",
        "print(\"-------------------------------------------------------------\")\n",
        "print(f\"Inference speed of the custom (CNN) model: {custom_model_inference_speed:.2f}\")\n",
        "print(\"-------------------------------------------------------------\")\n",
        "print(f\"Custom (CNN) model accuracy: {test_accuracy1:.3f}\")\n",
        "print(\"-------------------------------------------------------------\")"
      ]
    },
    {
      "cell_type": "markdown",
      "id": "28b0a78b",
      "metadata": {
        "id": "28b0a78b"
      },
      "source": [
        "### Evaluating the Transfer Learning Model\n",
        "- **Model Size**:\n",
        "  - The number of parameters in the transfer learning model is calculated using the `count_params` method.\n",
        "  - The size of the model is then converted to MB for easier interpretation.\n",
        "\n",
        "- **Inference Process**:\n",
        "  - The inference process is timed using the `time` module to measure the model's inference speed.\n",
        "\n",
        "- **Evaluation Metrics**:\n",
        "  - The transfer learning model is evaluated on the additional test data, providing metrics such as loss and accuracy.\n",
        "  - The AUC-ROC score is calculated to assess the model's performance in multi-class classification tasks."
      ]
    },
    {
      "cell_type": "code",
      "execution_count": 29,
      "id": "5ddc4571",
      "metadata": {
        "colab": {
          "base_uri": "https://localhost:8080/"
        },
        "id": "5ddc4571",
        "outputId": "f1dcd778-fa9a-4917-8fbb-480132487f16"
      },
      "outputs": [
        {
          "output_type": "stream",
          "name": "stdout",
          "text": [
            "312/312 [==============================] - 12s 38ms/step - loss: 0.8680 - accuracy: 0.7322\n",
            "312/312 [==============================] - 11s 34ms/step\n",
            "Evaluation:\n",
            "==============================================\n",
            "Size of the transfer learning model: 2588490 (params)\n",
            "-------------------------------------------------------------\n",
            "Size of the transfer learning model: 9.87 (MB)\n",
            "-------------------------------------------------------------\n",
            "AUC_ROC of the transfer learning model: 0.961\n",
            "-------------------------------------------------------------\n",
            "Inference speed of the transfer learning model: 21.62\n",
            "-------------------------------------------------------------\n",
            "Transfer learning model accuracy: 0.732\n",
            "-------------------------------------------------------------\n"
          ]
        }
      ],
      "source": [
        "# Calculate the number of parameters in the transfer learning model\n",
        "transfer_model_size = transfer_model.count_params()\n",
        "\n",
        "# Convert the size of the transfer learning model to MB\n",
        "transfer_model_size_in_mb = (transfer_model_size * 4) / (1024 * 1024)\n",
        "\n",
        "# Evaluate the transfer learning model on the additional test data\n",
        "test_loss2, test_accuracy2 = transfer_model.evaluate(Sample_images2, Sample_labels2)\n",
        "\n",
        "# Start timing the inference process\n",
        "start2 = time.time()\n",
        "\n",
        "# Make predictions using the transfer learning model\n",
        "prediction2 = transfer_model.predict(Sample_images2)\n",
        "\n",
        "# End timing the inference process\n",
        "end2 = time.time()\n",
        "\n",
        "# Calculate the AUC-ROC score\n",
        "auc_roc2 = roc_auc_score(Sample_labels2, prediction2, multi_class=\"ovo\", average=\"macro\")\n",
        "\n",
        "# Calculate the inference speed of the transfer learning model\n",
        "transfer_model_inference_speed = end2 - start2\n",
        "\n",
        "# Print evaluation results\n",
        "print(\"Evaluation:\")\n",
        "print(\"==============================================\")\n",
        "print(f\"Size of the transfer learning model: {transfer_model_size} (params)\")\n",
        "print(\"-------------------------------------------------------------\")\n",
        "print(f\"Size of the transfer learning model: {transfer_model_size_in_mb:.2f} (MB)\")\n",
        "print(\"-------------------------------------------------------------\")\n",
        "print(f\"AUC_ROC of the transfer learning model: {auc_roc2:.3f}\")\n",
        "print(\"-------------------------------------------------------------\")\n",
        "print(f\"Inference speed of the transfer learning model: {transfer_model_inference_speed:.2f}\")\n",
        "print(\"-------------------------------------------------------------\")\n",
        "print(f\"Transfer learning model accuracy: {test_accuracy2:.3f}\")\n",
        "print(\"-------------------------------------------------------------\")"
      ]
    },
    {
      "cell_type": "markdown",
      "id": "881bdbab",
      "metadata": {
        "id": "881bdbab"
      },
      "source": [
        "Both the custom Convolutional Neural Network (CNN) model and the Transfer Learning model were evaluated on a provided test dataset to assess their performance, size, and inference speed.\n",
        "\n",
        "### **AUC-ROC**\n",
        "\n",
        "The Transfer Learning model exhibits a slightly higher AUC-ROC score compared to the custom CNN model. This indicates that the Transfer Learning model better discriminates between classes in the test dataset.\n",
        "\n",
        "### **Model Size**\n",
        "\n",
        "- **Custom CNN Model**: 1,517,450 parameters\n",
        "- **Transfer Learning Model**: 2,588,490 parameters\n",
        "\n",
        "The Transfer Learning model has a larger size compared to the custom CNN model. This is expected since Transfer Learning models typically leverage pre-trained architectures, which may have more parameters. However, it's worth noting that the increase in size comes with the benefit of leveraging pre-existing knowledge from the pre-trained model.\n",
        "\n",
        "### **Inference Speed**\n",
        "\n",
        "The custom CNN model demonstrates significantly faster inference speed compared to the Transfer Learning model. This is likely due to the larger size and complexity of the Transfer Learning model, which results in longer inference times.\n",
        "\n",
        "### **Performance Insights**\n",
        "\n",
        "- **AUC-ROC**: The Transfer Learning model outperforms the custom CNN model in terms of discriminating between classes, indicating its superior ability to classify images accurately.\n",
        "- **Model Size**: The custom CNN model is more lightweight in terms of parameters, making it more suitable for deployment in resource-constrained environments or applications where model size is a critical factor.\n",
        "- **Inference Speed**: The custom CNN model excels in inference speed, making it more suitable for applications that require real-time or low-latency predictions.\n",
        "\n",
        "### **Conclusion**\n",
        "\n",
        "In conclusion, while the Transfer Learning model demonstrates better classification performance, the custom CNN model offers advantages in terms of model size and inference speed. The choice between the two models depends on the specific requirements of the application, weighing factors such as classification accuracy, model size, and inference speed.\n"
      ]
    }
  ],
  "metadata": {
    "accelerator": "GPU",
    "colab": {
      "gpuType": "T4",
      "provenance": []
    },
    "kaggle": {
      "accelerator": "nvidiaTeslaT4",
      "dataSources": [
        {
          "datasetId": 4827728,
          "sourceId": 8160207,
          "sourceType": "datasetVersion"
        }
      ],
      "dockerImageVersionId": 30699,
      "isGpuEnabled": true,
      "isInternetEnabled": true,
      "language": "python",
      "sourceType": "notebook"
    },
    "kernelspec": {
      "display_name": "Python 3",
      "language": "python",
      "name": "python3"
    },
    "language_info": {
      "codemirror_mode": {
        "name": "ipython",
        "version": 3
      },
      "file_extension": ".py",
      "mimetype": "text/x-python",
      "name": "python",
      "nbconvert_exporter": "python",
      "pygments_lexer": "ipython3",
      "version": "3.10.12"
    }
  },
  "nbformat": 4,
  "nbformat_minor": 5
}